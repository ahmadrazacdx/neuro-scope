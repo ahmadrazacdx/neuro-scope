{
 "cells": [
  {
   "cell_type": "markdown",
   "id": "5a4dd684",
   "metadata": {},
   "source": [
    "### **Binary Classification with NeuroScope**\n",
    "Binary classification example using NeuroScope with comprehensive\n",
    "diagnostic analysis. Demonstrates sigmoid output activation, \n",
    "binary crossentropy loss, and specialized binary metrics.\n",
    "\n",
    "This example covers:\n",
    "- Binary classification setup\n",
    "- Sigmoid activation and BCE loss\n",
    "- Binary-specific metrics and diagnostics\n",
    "\n",
    "---\n",
    "**Author:** Ahmad Raza | **Date:** September 2025\n"
   ]
  },
  {
   "cell_type": "markdown",
   "id": "4b068da5",
   "metadata": {},
   "source": [
    "#### **Step 1: Import Essential Tools**\n",
    "\n",
    "Let's start by importing NeuroScope's core components. Each tool serves a specific purpose in our neural network pipeline."
   ]
  },
  {
   "cell_type": "code",
   "execution_count": 1,
   "id": "af654f2d",
   "metadata": {},
   "outputs": [],
   "source": [
    "# necessary imports\n",
    "import numpy as np\n",
    "from neuroscope import (\n",
    "    MLP,                    # Our neural network model\n",
    "    PreTrainingAnalyzer,    # Pre-flight checks before training\n",
    "    TrainingMonitor,        # Real-time training diagnostics\n",
    "    PostTrainingEvaluator,  # Final model evaluation\n",
    "    Visualizer              # Beautiful plots and animations\n",
    ")"
   ]
  },
  {
   "cell_type": "markdown",
   "id": "30e64ec4",
   "metadata": {},
   "source": [
    "#### **Step 2: Data Generation Functions**\n",
    "\n",
    "We'll create synthetic data for our binary classification task. "
   ]
  },
  {
   "cell_type": "code",
   "execution_count": 2,
   "metadata": {},
   "outputs": [],
   "source": [
    "# generate synthetic data function\n",
    "def generate_synthetic_data(samples, features=20, classes=None, noise=0.1, random_state=None):\n",
    "    \"\"\"Generate synthetic data for classification or regression.\"\"\"\n",
    "    rng = np.random.default_rng(random_state)\n",
    "\n",
    "    if classes is None:\n",
    "        X = rng.normal(0, 1, size=(samples, features))\n",
    "        weights = rng.normal(0, 1, size=(features, 1))\n",
    "        y = X @ weights + noise * rng.normal(0, 1, size=(samples, 1))\n",
    "        y = y.squeeze()\n",
    "    else:\n",
    "        X = rng.normal(0, 1, size=(samples, features))\n",
    "        weights = rng.normal(0, 1, size=(classes, features))\n",
    "        logits = X @ weights.T + noise * rng.normal(0, 1, size=(samples, classes))\n",
    "        y = np.argmax(logits, axis=1)\n",
    "    \n",
    "    return X, y\n",
    "    "
   ]
  },
  {
   "cell_type": "markdown",
   "id": "896ec622",
   "metadata": {},
   "source": [
    "#### **Step 3: Data Splitting Strategy**\n",
    "\n",
    "Proper data splitting is crucial for honest model evaluation. We'll use 70% for training, 15% for validation, and 15% for final testing."
   ]
  },
  {
   "cell_type": "code",
   "execution_count": 3,
   "id": "a0b88465",
   "metadata": {},
   "outputs": [],
   "source": [
    "# split data function\n",
    "def split_data(X, y, train_ratio=0.7, val_ratio=0.15):\n",
    "    \"\"\"Split data into train, validation, and test sets.\"\"\"\n",
    "    n_samples = X.shape[0]\n",
    "    n_train = int(n_samples * train_ratio)\n",
    "    n_val = int(n_samples * val_ratio)\n",
    "\n",
    "    # Shuffle indices\n",
    "    indices = np.random.permutation(n_samples)\n",
    "\n",
    "    # Split indices\n",
    "    train_idx = indices[:n_train]\n",
    "    val_idx = indices[n_train : n_train + n_val]\n",
    "    test_idx = indices[n_train + n_val :]\n",
    "\n",
    "    return (\n",
    "        X[train_idx],\n",
    "        y[train_idx],\n",
    "        X[val_idx],\n",
    "        y[val_idx],\n",
    "        X[test_idx],\n",
    "        y[test_idx],\n",
    "    )"
   ]
  },
  {
   "cell_type": "markdown",
   "id": "b5e882d3",
   "metadata": {},
   "source": [
    "#### **Step 4: Create Our Dataset**\n",
    "\n",
    "Let's generate a binary classification dataset with 2000 samples and 20 features. The `classes=2` parameter creates two distinct classes."
   ]
  },
  {
   "cell_type": "code",
   "execution_count": 4,
   "id": "5cb4af3d",
   "metadata": {},
   "outputs": [],
   "source": [
    "# Generate and split synthetic data\n",
    "X, y = generate_synthetic_data(samples=2000, features=20, classes=2, noise=0.1, random_state=42)\n",
    "X_train, y_train, X_val, y_val, X_test, y_test = split_data(X, y)"
   ]
  },
  {
   "cell_type": "markdown",
   "id": "e8b35e7f",
   "metadata": {},
   "source": [
    "#### **Step 5: Verify Data Shapes**\n",
    "Always check your data dimensions to catch potential issues early. This helps prevent mysterious errors later!"
   ]
  },
  {
   "cell_type": "code",
   "execution_count": 5,
   "id": "c83694d1",
   "metadata": {},
   "outputs": [
    {
     "data": {
      "application/vnd.code.notebook.stdout": [
       "Training set: 1400 samples, 20 features\n",
       "Validation set: 300 samples\n",
       "Test set: 300 samples\n",
       "Classes in dataset: 2\n"
      ]
     },
     "execution_count": 5,
     "metadata": {},
     "output_type": "execute_result"
    }
   ],
   "source": [
    "print(f\"Training set: {X_train.shape[0]} samples, {X_train.shape[1]} features\")\n",
    "print(f\"Validation set: {X_val.shape[0]} samples\")\n",
    "print(f\"Test set: {X_test.shape[0]} samples\")\n",
    "print(f\"Classes in dataset: {len(np.unique(y))}\")"
   ]
  },
  {
   "cell_type": "markdown",
   "id": "48db82f6",
   "metadata": {},
   "source": [
    "#### **Step 6: Design Your Neural Network**\n",
    "\n",
    "For binary classification, we need:\n",
    "- **Input layer:** 20 neurons (matching our features)\n",
    "- **Hidden layers:** 20 → 10 neurons (learning complex patterns)\n",
    "- **Output layer:** 1 neuron with sigmoid activation (probability output)"
   ]
  },
  {
   "cell_type": "code",
   "execution_count": 6,
   "id": "2b5e37ed",
   "metadata": {},
   "outputs": [],
   "source": [
    "# initialize model\n",
    "model = MLP(\n",
    "        layer_dims=[20, 20, 10, 1],  # Input -> Hidden -> Hidden -> Output\n",
    "        hidden_activation=\"leaky_relu\",  # Leaky ReLU for hidden layers\n",
    "        out_activation=\"sigmoid\",  # Softmax for multi-class classification\n",
    "        dropout_rate=0.2,  # 0% dropout for regularization\n",
    "    )\n"
   ]
  },
  {
   "cell_type": "markdown",
   "id": "456b3f1f",
   "metadata": {},
   "source": [
    "#### **Step 7: Compile the model**\n",
    "\n",
    "The compilation step sets up our optimizer and regularization. Adam optimizer adapts learning rates automatically, while L2 regularization prevents overfitting."
   ]
  },
  {
   "cell_type": "code",
   "execution_count": 7,
   "id": "f7984f3c",
   "metadata": {},
   "outputs": [
    {
     "name": "stdout",
     "output_type": "stream",
     "text": [
      "===============================================================\n",
      "                    MLP ARCHITECTURE SUMMARY\n",
      "===============================================================\n",
      "Layer        Type               Output Shape    Params    \n",
      "---------------------------------------------------------------\n",
      "Layer 1      Input → Hidden     (20,)           420       \n",
      "Layer 2      Hidden → Hidden    (10,)           210       \n",
      "Layer 3      Hidden → Output    (1,)            11        \n",
      "---------------------------------------------------------------\n",
      "TOTAL                                           641       \n",
      "===============================================================\n",
      "Hidden Activation                               leaky_relu\n",
      "Output Activation                               sigmoid\n",
      "Optimizer                                       Adam\n",
      "Learning Rate                                   0.001\n",
      "Dropout                                         20.0% (normal)\n",
      "L2 Regularization                               λ = 0.1\n",
      "===============================================================\n"
     ]
    }
   ],
   "source": [
    "# Compile the model\n",
    "model.compile(\n",
    "        optimizer=\"adam\",  # Adam optimizer\n",
    "        lr=0.001,  # Learning rate\n",
    "        reg=\"l2\",  # L2 regularization\n",
    "        lamda=0.1,  # Regularization strength\n",
    "    )"
   ]
  },
  {
   "cell_type": "markdown",
   "id": "86bd44f5",
   "metadata": {},
   "source": [
    "#### **Step 8: Pre-Training Analysis**\n",
    "\n",
    "NeuroScope's pre-training analyzer performs comprehensive checks before training begins. This catches potential issues that could derail training."
   ]
  },
  {
   "cell_type": "code",
   "execution_count": 8,
   "id": "e90b86e4",
   "metadata": {},
   "outputs": [
    {
     "name": "stdout",
     "output_type": "stream",
     "text": [
      "==========================================================================================\n",
      "                         NEUROSCOPE PRE-TRAINING ANALYSIS\n",
      "==========================================================================================\n",
      "DIAGNOSTIC TOOL             STATUS       RESULT         NOTE                                      \n",
      "------------------------------------------------------------------------------------------\n",
      "Initial Loss Check          PASS         0.7537         Perfect loss init                         \n",
      "Initialization Validation   PASS         3 layers       Good weight init                          \n",
      "Layer Capacity Analysis     PASS         641 params     No bottlenecks                            \n",
      "Architecture Sanity Check   PASS         0I/0W          Architecture is fine                      \n",
      "Capacity vs Data Ratio      PASS         641 params     Excellent model size                      \n",
      "Convergence Feasibility     PASS         66.7%          Good convergence potential                \n",
      "------------------------------------------------------------------------------------------\n",
      "OVERALL STATUS: ALL SYSTEMS READY\n",
      "TESTS PASSED: 6/6\n",
      "==========================================================================================\n"
     ]
    }
   ],
   "source": [
    "# Pre-training analysis\n",
    "analyzer = PreTrainingAnalyzer(model)\n",
    "analyzer.analyze(X_train, y_train)"
   ]
  },
  {
   "cell_type": "markdown",
   "id": "4344a094",
   "metadata": {},
   "source": [
    "#### **Step 9: Training without Real-Time Monitoring**\n",
    "\n",
    "Now let's train without monitoring thats simple approach."
   ]
  },
  {
   "cell_type": "code",
   "execution_count": 9,
   "id": "b809f7c2",
   "metadata": {},
   "outputs": [
    {
     "name": "stdout",
     "output_type": "stream",
     "text": [
      "Epoch   1  Train loss: 0.640047, Train Accuracy: 0.6414 Val loss: 0.6576982, Val Accuracy: 0.63667\n",
      "Epoch   2  Train loss: 0.576967, Train Accuracy: 0.7171 Val loss: 0.5970324, Val Accuracy: 0.70333\n",
      "Epoch   3  Train loss: 0.520095, Train Accuracy: 0.7729 Val loss: 0.5355028, Val Accuracy: 0.75333\n",
      "Epoch   4  Train loss: 0.458678, Train Accuracy: 0.8157 Val loss: 0.4709810, Val Accuracy: 0.82000\n",
      "Epoch   5  Train loss: 0.396059, Train Accuracy: 0.8593 Val loss: 0.4079736, Val Accuracy: 0.85333\n",
      "Epoch   6  Train loss: 0.329661, Train Accuracy: 0.8914 Val loss: 0.3371116, Val Accuracy: 0.88667\n",
      "Epoch   7  Train loss: 0.268632, Train Accuracy: 0.9200 Val loss: 0.2816537, Val Accuracy: 0.89000\n",
      "Epoch   8  Train loss: 0.218372, Train Accuracy: 0.9314 Val loss: 0.2310028, Val Accuracy: 0.92333\n",
      "Epoch   9  Train loss: 0.184103, Train Accuracy: 0.9471 Val loss: 0.2019403, Val Accuracy: 0.92000\n",
      "Epoch  10  Train loss: 0.155755, Train Accuracy: 0.9493 Val loss: 0.1725920, Val Accuracy: 0.93667\n",
      "Epoch  11  Train loss: 0.134191, Train Accuracy: 0.9571 Val loss: 0.1539766, Val Accuracy: 0.94333\n",
      "Epoch  12  Train loss: 0.119788, Train Accuracy: 0.9636 Val loss: 0.1457928, Val Accuracy: 0.95000\n",
      "Epoch  13  Train loss: 0.105909, Train Accuracy: 0.9664 Val loss: 0.1323120, Val Accuracy: 0.95000\n",
      "Epoch  14  Train loss: 0.097136, Train Accuracy: 0.9729 Val loss: 0.1306197, Val Accuracy: 0.95000\n",
      "Epoch  15  Train loss: 0.088762, Train Accuracy: 0.9736 Val loss: 0.1230890, Val Accuracy: 0.94667\n",
      "Epoch  16  Train loss: 0.080858, Train Accuracy: 0.9786 Val loss: 0.1121471, Val Accuracy: 0.95333\n",
      "Epoch  17  Train loss: 0.074903, Train Accuracy: 0.9800 Val loss: 0.1031584, Val Accuracy: 0.95667\n",
      "Epoch  18  Train loss: 0.069171, Train Accuracy: 0.9807 Val loss: 0.0975146, Val Accuracy: 0.95667\n",
      "Epoch  19  Train loss: 0.063584, Train Accuracy: 0.9843 Val loss: 0.0953599, Val Accuracy: 0.96667\n",
      "Epoch  20  Train loss: 0.060454, Train Accuracy: 0.9864 Val loss: 0.0932840, Val Accuracy: 0.97000\n",
      "Epoch  21  Train loss: 0.057393, Train Accuracy: 0.9879 Val loss: 0.0932635, Val Accuracy: 0.96667\n",
      "Epoch  22  Train loss: 0.054540, Train Accuracy: 0.9886 Val loss: 0.0868034, Val Accuracy: 0.97000\n",
      "Epoch  23  Train loss: 0.051681, Train Accuracy: 0.9886 Val loss: 0.0851213, Val Accuracy: 0.96667\n",
      "Epoch  24  Train loss: 0.049888, Train Accuracy: 0.9879 Val loss: 0.0859112, Val Accuracy: 0.96667\n",
      "Epoch  25  Train loss: 0.047481, Train Accuracy: 0.9886 Val loss: 0.0878171, Val Accuracy: 0.96667\n",
      "Epoch  26  Train loss: 0.044975, Train Accuracy: 0.9886 Val loss: 0.0798257, Val Accuracy: 0.97000\n",
      "Epoch  27  Train loss: 0.043828, Train Accuracy: 0.9907 Val loss: 0.0822222, Val Accuracy: 0.96667\n",
      "Epoch  28  Train loss: 0.042423, Train Accuracy: 0.9893 Val loss: 0.0797465, Val Accuracy: 0.96333\n",
      "Epoch  29  Train loss: 0.041086, Train Accuracy: 0.9900 Val loss: 0.0779999, Val Accuracy: 0.96667\n",
      "Epoch  30  Train loss: 0.040336, Train Accuracy: 0.9907 Val loss: 0.0809192, Val Accuracy: 0.97333\n",
      "Epoch  31  Train loss: 0.038663, Train Accuracy: 0.9936 Val loss: 0.0769191, Val Accuracy: 0.97333\n",
      "Epoch  32  Train loss: 0.037674, Train Accuracy: 0.9936 Val loss: 0.0744509, Val Accuracy: 0.97000\n",
      "Epoch  33  Train loss: 0.036954, Train Accuracy: 0.9936 Val loss: 0.0749038, Val Accuracy: 0.97000\n",
      "Epoch  34  Train loss: 0.036541, Train Accuracy: 0.9921 Val loss: 0.0760708, Val Accuracy: 0.97000\n",
      "Epoch  35  Train loss: 0.035772, Train Accuracy: 0.9943 Val loss: 0.0735864, Val Accuracy: 0.97333\n",
      "Epoch  36  Train loss: 0.034810, Train Accuracy: 0.9943 Val loss: 0.0734068, Val Accuracy: 0.97000\n",
      "Epoch  37  Train loss: 0.035354, Train Accuracy: 0.9929 Val loss: 0.0764050, Val Accuracy: 0.97000\n",
      "Epoch  38  Train loss: 0.034146, Train Accuracy: 0.9914 Val loss: 0.0732305, Val Accuracy: 0.97333\n",
      "Epoch  39  Train loss: 0.032954, Train Accuracy: 0.9921 Val loss: 0.0715195, Val Accuracy: 0.98000\n",
      "Epoch  40  Train loss: 0.032812, Train Accuracy: 0.9943 Val loss: 0.0705110, Val Accuracy: 0.98000\n"
     ]
    }
   ],
   "source": [
    "# training without real-time monitoring\n",
    "history = model.fit(\n",
    "        X_train,\n",
    "        y_train,\n",
    "        X_val=X_val,\n",
    "        y_val=y_val,\n",
    "        epochs=40,\n",
    "        batch_size=32,\n",
    "    )\n"
   ]
  },
  {
   "cell_type": "markdown",
   "id": "e0f6f5fd",
   "metadata": {},
   "source": [
    "#### **Step 9: Training with Real-Time Monitoring**\n",
    "\n",
    "Now let's train with NeuroScope's advanced monitoring. Watch the diagnostic indicators - they tell you exactly what's happening inside your network!"
   ]
  },
  {
   "cell_type": "code",
   "execution_count": 10,
   "id": "7586f4b6",
   "metadata": {},
   "outputs": [
    {
     "name": "stdout",
     "output_type": "stream",
     "text": [
      "----------------------------------------------------------------------------------------------------\n",
      "SNR: 🟡 (0.70),     | Dead Neurons: 🟢 (0.00%)  | VGP:      🟢  | EGP:     🟢  | Weight Health: 🟢\n",
      "WUR: 🟢 (1.15e-03)  | Saturation:   🟢 (0.00)   | Progress: 🟢  | Plateau: 🟢  | Overfitting:   🟡\n",
      "----------------------------------------------------------------------------------------------------\n",
      "Epoch   1  Train loss: 0.640047, Train Accuracy: 0.6414 Val loss: 0.6576982, Val Accuracy: 0.63667\n",
      "----------------------------------------------------------------------------------------------------\n",
      "SNR: 🟡 (0.80),     | Dead Neurons: 🟢 (0.00%)  | VGP:      🟢  | EGP:     🟢  | Weight Health: 🟢\n",
      "WUR: 🟢 (1.20e-03)  | Saturation:   🟢 (0.00)   | Progress: 🟢  | Plateau: 🟢  | Overfitting:   🟢\n",
      "----------------------------------------------------------------------------------------------------\n",
      "Epoch   2  Train loss: 0.576967, Train Accuracy: 0.7171 Val loss: 0.5970324, Val Accuracy: 0.70333\n",
      "----------------------------------------------------------------------------------------------------\n",
      "SNR: 🟡 (0.89),     | Dead Neurons: 🟢 (0.00%)  | VGP:      🟢  | EGP:     🟢  | Weight Health: 🟢\n",
      "WUR: 🟢 (1.04e-03)  | Saturation:   🟢 (0.00)   | Progress: 🟡  | Plateau: 🟢  | Overfitting:   🟢\n",
      "----------------------------------------------------------------------------------------------------\n",
      "Epoch   3  Train loss: 0.520095, Train Accuracy: 0.7729 Val loss: 0.5355028, Val Accuracy: 0.75333\n",
      "----------------------------------------------------------------------------------------------------\n",
      "SNR: 🟡 (0.91),     | Dead Neurons: 🟢 (0.00%)  | VGP:      🟢  | EGP:     🟢  | Weight Health: 🟢\n",
      "WUR: 🟢 (1.21e-03)  | Saturation:   🟢 (0.00)   | Progress: 🟢  | Plateau: 🟢  | Overfitting:   🟢\n",
      "----------------------------------------------------------------------------------------------------\n",
      "Epoch   4  Train loss: 0.458678, Train Accuracy: 0.8157 Val loss: 0.4709810, Val Accuracy: 0.82000\n",
      "----------------------------------------------------------------------------------------------------\n",
      "SNR: 🟡 (0.77),     | Dead Neurons: 🟢 (0.00%)  | VGP:      🟢  | EGP:     🟢  | Weight Health: 🟢\n",
      "WUR: 🟢 (1.16e-03)  | Saturation:   🟢 (0.00)   | Progress: 🟢  | Plateau: 🟢  | Overfitting:   🟢\n",
      "----------------------------------------------------------------------------------------------------\n",
      "Epoch   5  Train loss: 0.396059, Train Accuracy: 0.8593 Val loss: 0.4079736, Val Accuracy: 0.85333\n",
      "----------------------------------------------------------------------------------------------------\n",
      "SNR: 🟡 (0.93),     | Dead Neurons: 🟢 (0.00%)  | VGP:      🟢  | EGP:     🟢  | Weight Health: 🟢\n",
      "WUR: 🟢 (1.26e-03)  | Saturation:   🟢 (0.00)   | Progress: 🟢  | Plateau: 🟢  | Overfitting:   🟢\n",
      "----------------------------------------------------------------------------------------------------\n",
      "Epoch   6  Train loss: 0.329661, Train Accuracy: 0.8914 Val loss: 0.3371116, Val Accuracy: 0.88667\n",
      "----------------------------------------------------------------------------------------------------\n",
      "SNR: 🟡 (0.94),     | Dead Neurons: 🟢 (0.00%)  | VGP:      🟢  | EGP:     🟢  | Weight Health: 🟢\n",
      "WUR: 🟢 (1.18e-03)  | Saturation:   🟢 (0.00)   | Progress: 🟢  | Plateau: 🟢  | Overfitting:   🟢\n",
      "----------------------------------------------------------------------------------------------------\n",
      "Epoch   7  Train loss: 0.268632, Train Accuracy: 0.9200 Val loss: 0.2816537, Val Accuracy: 0.89000\n",
      "----------------------------------------------------------------------------------------------------\n",
      "SNR: 🟡 (0.88),     | Dead Neurons: 🟢 (0.00%)  | VGP:      🟢  | EGP:     🟢  | Weight Health: 🟢\n",
      "WUR: 🟢 (1.21e-03)  | Saturation:   🟢 (0.00)   | Progress: 🟢  | Plateau: 🟢  | Overfitting:   🟢\n",
      "----------------------------------------------------------------------------------------------------\n",
      "Epoch   8  Train loss: 0.218372, Train Accuracy: 0.9314 Val loss: 0.2310028, Val Accuracy: 0.92333\n",
      "----------------------------------------------------------------------------------------------------\n",
      "SNR: 🟡 (0.85),     | Dead Neurons: 🟢 (0.00%)  | VGP:      🟢  | EGP:     🟢  | Weight Health: 🟢\n",
      "WUR: 🟢 (1.02e-03)  | Saturation:   🟢 (0.00)   | Progress: 🟢  | Plateau: 🟢  | Overfitting:   🟢\n",
      "----------------------------------------------------------------------------------------------------\n",
      "Epoch   9  Train loss: 0.184103, Train Accuracy: 0.9471 Val loss: 0.2019403, Val Accuracy: 0.92000\n",
      "----------------------------------------------------------------------------------------------------\n",
      "SNR: 🟡 (0.89),     | Dead Neurons: 🟢 (0.00%)  | VGP:      🟢  | EGP:     🟢  | Weight Health: 🟢\n",
      "WUR: 🟢 (1.03e-03)  | Saturation:   🟢 (0.00)   | Progress: 🟢  | Plateau: 🟢  | Overfitting:   🟢\n",
      "----------------------------------------------------------------------------------------------------\n",
      "Epoch  10  Train loss: 0.155755, Train Accuracy: 0.9493 Val loss: 0.1725920, Val Accuracy: 0.93667\n",
      "----------------------------------------------------------------------------------------------------\n",
      "SNR: 🟡 (0.84),     | Dead Neurons: 🟢 (0.00%)  | VGP:      🟢  | EGP:     🟢  | Weight Health: 🟢\n",
      "WUR: 🟢 (1.00e-03)  | Saturation:   🟢 (0.00)   | Progress: 🟢  | Plateau: 🟢  | Overfitting:   🟢\n",
      "----------------------------------------------------------------------------------------------------\n",
      "Epoch  11  Train loss: 0.134191, Train Accuracy: 0.9571 Val loss: 0.1539766, Val Accuracy: 0.94333\n",
      "----------------------------------------------------------------------------------------------------\n",
      "SNR: 🟡 (0.82),     | Dead Neurons: 🟢 (0.00%)  | VGP:      🟢  | EGP:     🟢  | Weight Health: 🟢\n",
      "WUR: 🟡 (7.53e-04)  | Saturation:   🟢 (0.00)   | Progress: 🟢  | Plateau: 🟢  | Overfitting:   🟡\n",
      "----------------------------------------------------------------------------------------------------\n",
      "Epoch  12  Train loss: 0.119788, Train Accuracy: 0.9636 Val loss: 0.1457928, Val Accuracy: 0.95000\n",
      "----------------------------------------------------------------------------------------------------\n",
      "SNR: 🟡 (0.95),     | Dead Neurons: 🟢 (0.00%)  | VGP:      🟢  | EGP:     🟢  | Weight Health: 🟢\n",
      "WUR: 🟡 (8.33e-04)  | Saturation:   🟢 (0.00)   | Progress: 🟢  | Plateau: 🟢  | Overfitting:   🟡\n",
      "----------------------------------------------------------------------------------------------------\n",
      "Epoch  13  Train loss: 0.105909, Train Accuracy: 0.9664 Val loss: 0.1323120, Val Accuracy: 0.95000\n",
      "----------------------------------------------------------------------------------------------------\n",
      "SNR: 🟡 (0.77),     | Dead Neurons: 🟢 (0.00%)  | VGP:      🟢  | EGP:     🟢  | Weight Health: 🟢\n",
      "WUR: 🟡 (7.13e-04)  | Saturation:   🟢 (0.00)   | Progress: 🟢  | Plateau: 🟢  | Overfitting:   🟡\n",
      "----------------------------------------------------------------------------------------------------\n",
      "Epoch  14  Train loss: 0.097136, Train Accuracy: 0.9729 Val loss: 0.1306197, Val Accuracy: 0.95000\n",
      "----------------------------------------------------------------------------------------------------\n",
      "SNR: 🟡 (0.87),     | Dead Neurons: 🟢 (0.00%)  | VGP:      🟢  | EGP:     🟢  | Weight Health: 🟢\n",
      "WUR: 🟡 (8.93e-04)  | Saturation:   🟢 (0.00)   | Progress: 🟢  | Plateau: 🟢  | Overfitting:   🟡\n",
      "----------------------------------------------------------------------------------------------------\n",
      "Epoch  15  Train loss: 0.088762, Train Accuracy: 0.9736 Val loss: 0.1230890, Val Accuracy: 0.94667\n",
      "----------------------------------------------------------------------------------------------------\n",
      "SNR: 🟡 (0.89),     | Dead Neurons: 🟢 (0.00%)  | VGP:      🟢  | EGP:     🟢  | Weight Health: 🟢\n",
      "WUR: 🟡 (6.51e-04)  | Saturation:   🟢 (0.00)   | Progress: 🟢  | Plateau: 🟢  | Overfitting:   🟡\n",
      "----------------------------------------------------------------------------------------------------\n",
      "Epoch  16  Train loss: 0.080858, Train Accuracy: 0.9786 Val loss: 0.1121471, Val Accuracy: 0.95333\n",
      "----------------------------------------------------------------------------------------------------\n",
      "SNR: 🟡 (0.70),     | Dead Neurons: 🟢 (0.00%)  | VGP:      🟢  | EGP:     🟢  | Weight Health: 🟢\n",
      "WUR: 🟡 (7.22e-04)  | Saturation:   🟢 (0.00)   | Progress: 🟢  | Plateau: 🟢  | Overfitting:   🟡\n",
      "----------------------------------------------------------------------------------------------------\n",
      "Epoch  17  Train loss: 0.074903, Train Accuracy: 0.9800 Val loss: 0.1031584, Val Accuracy: 0.95667\n",
      "----------------------------------------------------------------------------------------------------\n",
      "SNR: 🟡 (0.91),     | Dead Neurons: 🟢 (0.00%)  | VGP:      🟢  | EGP:     🟢  | Weight Health: 🟢\n",
      "WUR: 🟡 (6.12e-04)  | Saturation:   🟢 (0.00)   | Progress: 🟢  | Plateau: 🟢  | Overfitting:   🟡\n",
      "----------------------------------------------------------------------------------------------------\n",
      "Epoch  18  Train loss: 0.069171, Train Accuracy: 0.9807 Val loss: 0.0975146, Val Accuracy: 0.95667\n",
      "----------------------------------------------------------------------------------------------------\n",
      "SNR: 🟡 (0.91),     | Dead Neurons: 🟢 (0.00%)  | VGP:      🟢  | EGP:     🟢  | Weight Health: 🟢\n",
      "WUR: 🟡 (7.47e-04)  | Saturation:   🟢 (0.00)   | Progress: 🟢  | Plateau: 🟢  | Overfitting:   🟡\n",
      "----------------------------------------------------------------------------------------------------\n",
      "Epoch  19  Train loss: 0.063584, Train Accuracy: 0.9843 Val loss: 0.0953599, Val Accuracy: 0.96667\n",
      "----------------------------------------------------------------------------------------------------\n",
      "SNR: 🟡 (0.91),     | Dead Neurons: 🟢 (0.00%)  | VGP:      🟢  | EGP:     🟢  | Weight Health: 🟢\n",
      "WUR: 🟡 (5.31e-04)  | Saturation:   🟢 (0.00)   | Progress: 🟢  | Plateau: 🟢  | Overfitting:   🔴\n",
      "----------------------------------------------------------------------------------------------------\n",
      "Epoch  20  Train loss: 0.060454, Train Accuracy: 0.9864 Val loss: 0.0932840, Val Accuracy: 0.97000\n",
      "----------------------------------------------------------------------------------------------------\n",
      "SNR: 🟡 (0.89),     | Dead Neurons: 🟢 (0.00%)  | VGP:      🟢  | EGP:     🟢  | Weight Health: 🟢\n",
      "WUR: 🟡 (5.13e-04)  | Saturation:   🟢 (0.00)   | Progress: 🟢  | Plateau: 🟢  | Overfitting:   🔴\n",
      "----------------------------------------------------------------------------------------------------\n",
      "Epoch  21  Train loss: 0.057393, Train Accuracy: 0.9879 Val loss: 0.0932635, Val Accuracy: 0.96667\n",
      "----------------------------------------------------------------------------------------------------\n",
      "SNR: 🟡 (0.91),     | Dead Neurons: 🟢 (0.00%)  | VGP:      🟢  | EGP:     🟢  | Weight Health: 🟢\n",
      "WUR: 🟡 (6.13e-04)  | Saturation:   🟢 (0.00)   | Progress: 🟢  | Plateau: 🟢  | Overfitting:   🔴\n",
      "----------------------------------------------------------------------------------------------------\n",
      "Epoch  22  Train loss: 0.054540, Train Accuracy: 0.9886 Val loss: 0.0868034, Val Accuracy: 0.97000\n",
      "----------------------------------------------------------------------------------------------------\n",
      "SNR: 🟡 (0.86),     | Dead Neurons: 🟢 (0.00%)  | VGP:      🟢  | EGP:     🟢  | Weight Health: 🟢\n",
      "WUR: 🟡 (5.72e-04)  | Saturation:   🟢 (0.00)   | Progress: 🟢  | Plateau: 🟢  | Overfitting:   🔴\n",
      "----------------------------------------------------------------------------------------------------\n",
      "Epoch  23  Train loss: 0.051681, Train Accuracy: 0.9886 Val loss: 0.0851213, Val Accuracy: 0.96667\n",
      "----------------------------------------------------------------------------------------------------\n",
      "SNR: 🟡 (0.91),     | Dead Neurons: 🟢 (0.00%)  | VGP:      🟢  | EGP:     🟢  | Weight Health: 🟢\n",
      "WUR: 🟡 (5.05e-04)  | Saturation:   🟢 (0.00)   | Progress: 🟢  | Plateau: 🟢  | Overfitting:   🔴\n",
      "----------------------------------------------------------------------------------------------------\n",
      "Epoch  24  Train loss: 0.049888, Train Accuracy: 0.9879 Val loss: 0.0859112, Val Accuracy: 0.96667\n",
      "----------------------------------------------------------------------------------------------------\n",
      "SNR: 🟡 (0.69),     | Dead Neurons: 🟢 (0.00%)  | VGP:      🟢  | EGP:     🟢  | Weight Health: 🟢\n",
      "WUR: 🟡 (6.28e-04)  | Saturation:   🟢 (0.00)   | Progress: 🟢  | Plateau: 🟢  | Overfitting:   🔴\n",
      "----------------------------------------------------------------------------------------------------\n",
      "Epoch  25  Train loss: 0.047481, Train Accuracy: 0.9886 Val loss: 0.0878171, Val Accuracy: 0.96667\n",
      "----------------------------------------------------------------------------------------------------\n",
      "SNR: 🟡 (0.91),     | Dead Neurons: 🟢 (0.00%)  | VGP:      🟢  | EGP:     🟢  | Weight Health: 🟢\n",
      "WUR: 🟡 (5.57e-04)  | Saturation:   🟢 (0.00)   | Progress: 🟢  | Plateau: 🟢  | Overfitting:   🔴\n",
      "----------------------------------------------------------------------------------------------------\n",
      "Epoch  26  Train loss: 0.044975, Train Accuracy: 0.9886 Val loss: 0.0798257, Val Accuracy: 0.97000\n",
      "----------------------------------------------------------------------------------------------------\n",
      "SNR: 🟡 (0.82),     | Dead Neurons: 🟢 (0.00%)  | VGP:      🔴  | EGP:     🟢  | Weight Health: 🟢\n",
      "WUR: 🟡 (4.67e-04)  | Saturation:   🟢 (0.00)   | Progress: 🟢  | Plateau: 🟢  | Overfitting:   🔴\n",
      "----------------------------------------------------------------------------------------------------\n",
      "Epoch  27  Train loss: 0.043828, Train Accuracy: 0.9907 Val loss: 0.0822222, Val Accuracy: 0.96667\n",
      "----------------------------------------------------------------------------------------------------\n",
      "SNR: 🟡 (0.81),     | Dead Neurons: 🟢 (0.00%)  | VGP:      🟢  | EGP:     🟢  | Weight Health: 🟢\n",
      "WUR: 🟡 (5.68e-04)  | Saturation:   🟢 (0.00)   | Progress: 🟢  | Plateau: 🟢  | Overfitting:   🔴\n",
      "----------------------------------------------------------------------------------------------------\n",
      "Epoch  28  Train loss: 0.042423, Train Accuracy: 0.9893 Val loss: 0.0797465, Val Accuracy: 0.96333\n",
      "----------------------------------------------------------------------------------------------------\n",
      "SNR: 🟡 (0.88),     | Dead Neurons: 🟢 (0.00%)  | VGP:      🟢  | EGP:     🟢  | Weight Health: 🟢\n",
      "WUR: 🟡 (8.56e-04)  | Saturation:   🟢 (0.00)   | Progress: 🟢  | Plateau: 🟡  | Overfitting:   🔴\n",
      "----------------------------------------------------------------------------------------------------\n",
      "Epoch  29  Train loss: 0.041086, Train Accuracy: 0.9900 Val loss: 0.0779999, Val Accuracy: 0.96667\n",
      "----------------------------------------------------------------------------------------------------\n",
      "SNR: 🟡 (0.96),     | Dead Neurons: 🟢 (0.00%)  | VGP:      🟢  | EGP:     🟢  | Weight Health: 🟢\n",
      "WUR: 🟡 (5.78e-04)  | Saturation:   🟢 (0.00)   | Progress: 🟢  | Plateau: 🟡  | Overfitting:   🔴\n",
      "----------------------------------------------------------------------------------------------------\n",
      "Epoch  30  Train loss: 0.040336, Train Accuracy: 0.9907 Val loss: 0.0809192, Val Accuracy: 0.97333\n",
      "----------------------------------------------------------------------------------------------------\n",
      "SNR: 🟡 (0.89),     | Dead Neurons: 🟢 (0.00%)  | VGP:      🟢  | EGP:     🟢  | Weight Health: 🟢\n",
      "WUR: 🟡 (3.98e-04)  | Saturation:   🟢 (0.00)   | Progress: 🟢  | Plateau: 🟡  | Overfitting:   🔴\n",
      "----------------------------------------------------------------------------------------------------\n",
      "Epoch  31  Train loss: 0.038663, Train Accuracy: 0.9936 Val loss: 0.0769191, Val Accuracy: 0.97333\n",
      "----------------------------------------------------------------------------------------------------\n",
      "SNR: 🟡 (0.84),     | Dead Neurons: 🟢 (0.00%)  | VGP:      🟢  | EGP:     🟢  | Weight Health: 🟢\n",
      "WUR: 🟡 (5.84e-04)  | Saturation:   🟢 (0.00)   | Progress: 🟢  | Plateau: 🟢  | Overfitting:   🔴\n",
      "----------------------------------------------------------------------------------------------------\n",
      "Epoch  32  Train loss: 0.037674, Train Accuracy: 0.9936 Val loss: 0.0744509, Val Accuracy: 0.97000\n",
      "----------------------------------------------------------------------------------------------------\n",
      "SNR: 🟡 (0.87),     | Dead Neurons: 🟢 (0.00%)  | VGP:      🟢  | EGP:     🟢  | Weight Health: 🟢\n",
      "WUR: 🟡 (4.91e-04)  | Saturation:   🟢 (0.00)   | Progress: 🟡  | Plateau: 🟡  | Overfitting:   🔴\n",
      "----------------------------------------------------------------------------------------------------\n",
      "Epoch  33  Train loss: 0.036954, Train Accuracy: 0.9936 Val loss: 0.0749038, Val Accuracy: 0.97000\n",
      "----------------------------------------------------------------------------------------------------\n",
      "SNR: 🟡 (0.84),     | Dead Neurons: 🟢 (0.00%)  | VGP:      🟢  | EGP:     🟢  | Weight Health: 🟢\n",
      "WUR: 🟡 (5.86e-04)  | Saturation:   🟢 (0.00)   | Progress: 🟡  | Plateau: 🟡  | Overfitting:   🔴\n",
      "----------------------------------------------------------------------------------------------------\n",
      "Epoch  34  Train loss: 0.036541, Train Accuracy: 0.9921 Val loss: 0.0760708, Val Accuracy: 0.97000\n",
      "----------------------------------------------------------------------------------------------------\n",
      "SNR: 🟡 (0.70),     | Dead Neurons: 🟢 (0.00%)  | VGP:      🟢  | EGP:     🟢  | Weight Health: 🟢\n",
      "WUR: 🟡 (5.03e-04)  | Saturation:   🟢 (0.00)   | Progress: 🟡  | Plateau: 🟡  | Overfitting:   🔴\n",
      "----------------------------------------------------------------------------------------------------\n",
      "Epoch  35  Train loss: 0.035772, Train Accuracy: 0.9943 Val loss: 0.0735864, Val Accuracy: 0.97333\n",
      "----------------------------------------------------------------------------------------------------\n",
      "SNR: 🟡 (0.91),     | Dead Neurons: 🟢 (0.00%)  | VGP:      🟢  | EGP:     🟢  | Weight Health: 🟢\n",
      "WUR: 🟡 (5.49e-04)  | Saturation:   🟢 (0.00)   | Progress: 🟡  | Plateau: 🟡  | Overfitting:   🔴\n",
      "----------------------------------------------------------------------------------------------------\n",
      "Epoch  36  Train loss: 0.034810, Train Accuracy: 0.9943 Val loss: 0.0734068, Val Accuracy: 0.97000\n",
      "----------------------------------------------------------------------------------------------------\n",
      "SNR: 🟡 (0.92),     | Dead Neurons: 🟢 (0.00%)  | VGP:      🟢  | EGP:     🟢  | Weight Health: 🟢\n",
      "WUR: 🟡 (8.49e-04)  | Saturation:   🟢 (0.00)   | Progress: 🟡  | Plateau: 🟡  | Overfitting:   🔴\n",
      "----------------------------------------------------------------------------------------------------\n",
      "Epoch  37  Train loss: 0.035354, Train Accuracy: 0.9929 Val loss: 0.0764050, Val Accuracy: 0.97000\n",
      "----------------------------------------------------------------------------------------------------\n",
      "SNR: 🟡 (0.81),     | Dead Neurons: 🟢 (0.00%)  | VGP:      🟢  | EGP:     🟢  | Weight Health: 🟢\n",
      "WUR: 🟡 (6.41e-04)  | Saturation:   🟢 (0.00)   | Progress: 🟡  | Plateau: 🟡  | Overfitting:   🔴\n",
      "----------------------------------------------------------------------------------------------------\n",
      "Epoch  38  Train loss: 0.034146, Train Accuracy: 0.9914 Val loss: 0.0732305, Val Accuracy: 0.97333\n",
      "----------------------------------------------------------------------------------------------------\n",
      "SNR: 🟡 (0.88),     | Dead Neurons: 🟢 (0.00%)  | VGP:      🟡  | EGP:     🟢  | Weight Health: 🟢\n",
      "WUR: 🟡 (6.38e-04)  | Saturation:   🟢 (0.00)   | Progress: 🟢  | Plateau: 🟡  | Overfitting:   🔴\n",
      "----------------------------------------------------------------------------------------------------\n",
      "Epoch  39  Train loss: 0.032954, Train Accuracy: 0.9921 Val loss: 0.0715195, Val Accuracy: 0.98000\n",
      "----------------------------------------------------------------------------------------------------\n",
      "SNR: 🟡 (0.85),     | Dead Neurons: 🟢 (0.00%)  | VGP:      🟡  | EGP:     🟢  | Weight Health: 🟢\n",
      "WUR: 🟡 (7.04e-04)  | Saturation:   🟢 (0.00)   | Progress: 🟡  | Plateau: 🟡  | Overfitting:   🔴\n",
      "----------------------------------------------------------------------------------------------------\n",
      "Epoch  40  Train loss: 0.032812, Train Accuracy: 0.9943 Val loss: 0.0705110, Val Accuracy: 0.98000\n"
     ]
    }
   ],
   "source": [
    "# training with real-time monitoring\n",
    "monitor = TrainingMonitor()\n",
    "res = model.fit(\n",
    "        X_train,\n",
    "        y_train,\n",
    "        X_val=X_val,\n",
    "        y_val=y_val,\n",
    "        epochs=40,\n",
    "        batch_size=32,\n",
    "        monitor=monitor\n",
    "    )\n"
   ]
  },
  {
   "cell_type": "markdown",
   "id": "65b806ff",
   "metadata": {},
   "source": [
    "#### **Step 10: Visualize Training Progress**\n",
    "\n",
    "NeuroScope's visualizer creates high quality plots. The learning curves show how loss decreases and accuracy improves over time."
   ]
  },
  {
   "cell_type": "code",
   "execution_count": 11,
   "id": "cb225e8c",
   "metadata": {},
   "outputs": [],
   "source": [
    "# Visualizer initialization\n",
    "viz = Visualizer(res)"
   ]
  },
  {
   "cell_type": "code",
   "execution_count": 12,
   "id": "3b66ef93",
   "metadata": {},
   "outputs": [
    {
     "data": {
      "image/png": "[encoded data removed]",
      "text/plain": [
       "<Figure size 900x400 with 2 Axes>"
      ]
     },
     "metadata": {},
     "output_type": "display_data"
    }
   ],
   "source": [
    "# Plot learning curves with confidence intervals\n",
    "viz.plot_learning_curves(ci=True)"
   ]
  },
  {
   "cell_type": "code",
   "execution_count": 13,
   "id": "855512b4",
   "metadata": {},
   "outputs": [],
   "source": [
    "# Uncomment the line below to see an animated view of your training process. It's mesmerizing to watch your network learn!\n",
    "#viz.plot_training_animation(bg=\"light\")"
   ]
  },
  {
   "cell_type": "markdown",
   "id": "9c4dc0b2",
   "metadata": {},
   "source": [
    "#### **Step 11: Final Model Evaluation**\n",
    "\n",
    "Time for the moment of truth! Let's see how well our model performs on completely unseen test data."
   ]
  },
  {
   "cell_type": "code",
   "execution_count": 14,
   "id": "192000a9",
   "metadata": {},
   "outputs": [
    {
     "name": "stdout",
     "output_type": "stream",
     "text": [
      "================================================================================\n",
      "                  NEUROSCOPE POST-TRAINING EVALUATION\n",
      "================================================================================\n",
      "EVALUATION      STATUS       SCORE        NOTE                                         \n",
      "--------------------------------------------------------------------------------\n",
      "Robustness      EXCELLENT    0.981        Highly robust to noise                       \n",
      "Performance     EXCELLENT    0.973        High accuracy and fast inference             \n",
      "Stability       PASS         0.709        Good prediction stability                    \n",
      "--------------------------------------------------------------------------------\n",
      "OVERALL STATUS: EVALUATION COMPLETE\n",
      "EVALUATIONS PASSED: 3/3\n",
      "================================================================================\n",
      "                     CLASSIFICATION METRICS\n",
      "================================================================================\n",
      "METRIC               STATUS       SCORE        NOTE                                    \n",
      "--------------------------------------------------------------------------------\n",
      "Accuracy             EXCELLENT    0.9733       Outstanding performance                 \n",
      "Precision            EXCELLENT    0.9734       Outstanding performance                 \n",
      "Recall               EXCELLENT    0.9733       Outstanding performance                 \n",
      "F1-Score             EXCELLENT    0.9733       Outstanding performance                 \n",
      "--------------------------------------------------------------------------------\n",
      "METRICS STATUS: METRICS EVALUATION COMPLETE\n",
      "METRICS PASSED: 4/4\n",
      "================================================================================\n"
     ]
    }
   ],
   "source": [
    "# Post-training evaluation\n",
    "evaluator = PostTrainingEvaluator(model)\n",
    "evaluator.evaluate(X_test, y_test)"
   ]
  },
  {
   "cell_type": "markdown",
   "id": "1b100e8e",
   "metadata": {},
   "source": [
    "### **Congratulations!**\n",
    "\n",
    "You've successfully built and trained your first binary classifier with NeuroScope! \n",
    "\n",
    "#### **What You Accomplished:**\n",
    "- Created a synthetic binary classification dataset\n",
    "- Designed a neural network architecture\n",
    "- Used NeuroScope's diagnostic tools\n",
    "- Monitored training in real-time\n",
    "- Visualized learning progress\n",
    "- Evaluated final model performance\n",
    "\n",
    "#### **Next Steps:**\n",
    "- Try the **Multiclass Classification** notebook\n",
    "- Experiment with different architectures\n",
    "- Adjust hyperparameters and see the effects\n",
    "\n",
    "**Ready for the next challenge?**"
   ]
  }
 ],
 "metadata": {
  "kernelspec": {
   "display_name": "venv",
   "language": "python",
   "name": "python3"
  },
  "language_info": {
   "codemirror_mode": {
    "name": "ipython",
    "version": 3
   },
   "file_extension": ".py",
   "mimetype": "text/x-python",
   "name": "python",
   "nbconvert_exporter": "python",
   "pygments_lexer": "ipython3",
   "version": "3.12.11"
  }
 },
 "nbformat": 4,
 "nbformat_minor": 5
}
