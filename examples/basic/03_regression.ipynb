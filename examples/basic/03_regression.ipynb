{
 "cells": [
  {
   "cell_type": "markdown",
   "id": "d46f775d",
   "metadata": {},
   "source": [
    "### **Regression with Neuroscope**\n",
    "\n",
    "Regression example using NeuroScope with comprehensive\n",
    "diagnostic analysis. Demonstrates linear output activation, mean squarred error loss (mse), and specialized regression metrics.\n",
    "\n",
    "This example covers:\n",
    "- Regression setup  in neuroscope\n",
    "- linear activation and mse loss\n",
    "- Regression-specific metrics and diagnostics\n",
    "---\n",
    "**Author:** Ahmad Raza | **Date:** September 2025\n"
   ]
  },
  {
   "cell_type": "markdown",
   "id": "24a65d84",
   "metadata": {},
   "source": [
    "#### **Step 1: Import Essential Components**\n",
    "\n",
    "Same NeuroScope toolkit, but we'll configure everything for continuous value prediction."
   ]
  },
  {
   "cell_type": "code",
   "execution_count": null,
   "id": "af654f2d",
   "metadata": {},
   "outputs": [],
   "source": [
    "# Necessary imports\n",
    "import numpy as np\n",
    "from neuroscope import (\n",
    "    MLP, \n",
    "    PreTrainingAnalyzer, \n",
    "    TrainingMonitor, \n",
    "    PostTrainingEvaluator, \n",
    "    Visualizer\n",
    ")"
   ]
  },
  {
   "cell_type": "markdown",
   "id": "18cbf488",
   "metadata": {},
   "source": [
    "#### **Step 2: Data Generation Functions**\n",
    "For regression, we'll generate continuous target values instead of discrete classes. The relationship between inputs and outputs will be more subtle."
   ]
  },
  {
   "cell_type": "code",
   "execution_count": 2,
   "id": "3c3115bb",
   "metadata": {},
   "outputs": [],
   "source": [
    "# synthetic data generation\n",
    "def generate_synthetic_data(samples, features=20, classes=None, noise=0.1, random_state=None):\n",
    "    \"\"\"Generate synthetic data for classification or regression.\"\"\"\n",
    "    rng = np.random.default_rng(random_state)\n",
    "\n",
    "    if classes is None:\n",
    "        X = rng.normal(0, 1, size=(samples, features))\n",
    "        weights = rng.normal(0, 1, size=(features, 1))\n",
    "        y = X @ weights + noise * rng.normal(0, 1, size=(samples, 1))\n",
    "        y = y.squeeze()\n",
    "    else:\n",
    "        X = rng.normal(0, 1, size=(samples, features))\n",
    "        weights = rng.normal(0, 1, size=(classes, features))\n",
    "        logits = X @ weights.T + noise * rng.normal(0, 1, size=(samples, classes))\n",
    "        y = np.argmax(logits, axis=1)\n",
    "    \n",
    "    return X, y\n",
    "    "
   ]
  },
  {
   "cell_type": "code",
   "execution_count": 3,
   "id": "a0b88465",
   "metadata": {},
   "outputs": [],
   "source": [
    "# split data function\n",
    "def split_data(X, y, train_ratio=0.7, val_ratio=0.15):\n",
    "    \"\"\"Split data into train, validation, and test sets.\"\"\"\n",
    "    n_samples = X.shape[0]\n",
    "    n_train = int(n_samples * train_ratio)\n",
    "    n_val = int(n_samples * val_ratio)\n",
    "\n",
    "    # Shuffle indices\n",
    "    indices = np.random.permutation(n_samples)\n",
    "\n",
    "    # Split indices\n",
    "    train_idx = indices[:n_train]\n",
    "    val_idx = indices[n_train : n_train + n_val]\n",
    "    test_idx = indices[n_train + n_val :]\n",
    "\n",
    "    return (\n",
    "        X[train_idx],\n",
    "        y[train_idx],\n",
    "        X[val_idx],\n",
    "        y[val_idx],\n",
    "        X[test_idx],\n",
    "        y[test_idx],\n",
    "    )"
   ]
  },
  {
   "cell_type": "markdown",
   "id": "21eaae65",
   "metadata": {},
   "source": [
    "#### **Step 3: Create Our Dataset**\n",
    "\n",
    "Notice `classes=None` - this tells our function to generate continuous targets. Higher noise makes the problem more realistic."
   ]
  },
  {
   "cell_type": "code",
   "execution_count": 4,
   "id": "5cb4af3d",
   "metadata": {},
   "outputs": [],
   "source": [
    "# Generate and split data\n",
    "X, y = generate_synthetic_data(samples=2000, features=20, noise=0.2, random_state=42)\n",
    "X_train, y_train, X_val, y_val, X_test, y_test = split_data(X, y)"
   ]
  },
  {
   "cell_type": "markdown",
   "id": "d693c29f",
   "metadata": {},
   "source": [
    "#### **Step 4: Verify Data Shapes and Explore Target Distribution**\n",
    "Always check your data dimensions to catch potential issues early. This helps prevent mysterious errors later!"
   ]
  },
  {
   "cell_type": "code",
   "execution_count": 5,
   "id": "c83694d1",
   "metadata": {},
   "outputs": [
    {
     "data": {
      "application/vnd.code.notebook.stdout": [
       "Training set: 1400 samples, 20 features\n",
       "Validation set: 300 samples\n",
       "Test set: 300 samples\n",
       "Classes in dataset: 2000\n"
      ]
     },
     "execution_count": 5,
     "metadata": {},
     "output_type": "execute_result"
    }
   ],
   "source": [
    "print(f\"Training set: {X_train.shape[0]} samples, {X_train.shape[1]} features\")\n",
    "print(f\"Validation set: {X_val.shape[0]} samples\")\n",
    "print(f\"Test set: {X_test.shape[0]} samples\")\n",
    "print(f\"Classes in dataset: {len(np.unique(y))}\")"
   ]
  },
  {
   "cell_type": "code",
   "execution_count": 6,
   "id": "71789ae2",
   "metadata": {},
   "outputs": [
    {
     "name": "stdout",
     "output_type": "stream",
     "text": [
      "Input shape: (1400, 20)\n",
      "Target statistics:\n",
      "  Mean: -0.009\n",
      "  Std:  4.859\n",
      "  Min:  -13.701\n",
      "  Max:  14.800\n"
     ]
    }
   ],
   "source": [
    "print(f\"Input shape: {X_train.shape}\")\n",
    "print(f\"Target statistics:\")\n",
    "print(f\"  Mean: {y_train.mean():.3f}\")\n",
    "print(f\"  Std:  {y_train.std():.3f}\")\n",
    "print(f\"  Min:  {y_train.min():.3f}\")\n",
    "print(f\"  Max:  {y_train.max():.3f}\")"
   ]
  },
  {
   "cell_type": "markdown",
   "id": "943f369e",
   "metadata": {},
   "source": [
    "#### **Step 5: Design Your Neural Network**\n",
    "\n",
    "Key differences for regression:\n",
    "- **Output layer:** 1 neuron (single continuous value)\n",
    "- **No output activation:** Linear output (can be any real number)\n",
    "- **Simpler architecture:** Fewer parameters needed"
   ]
  },
  {
   "cell_type": "code",
   "execution_count": 7,
   "id": "2b5e37ed",
   "metadata": {},
   "outputs": [],
   "source": [
    "# Initialize MLP model for regression\n",
    "model = MLP(\n",
    "        layer_dims=[20, 20, 1],  # Input -> Hidden -> Hidden -> Output\n",
    "        hidden_activation=\"leaky_relu\",  # Leaky ReLU for hidden layers\n",
    "        out_activation=None,  # No activation for output layer (linear)\n",
    "        dropout_rate=0.2,  # 0% dropout for regularization\n",
    "    )\n"
   ]
  },
  {
   "cell_type": "markdown",
   "id": "a9218ccb",
   "metadata": {},
   "source": [
    "#### **Step 6: Compile the model**\n",
    "\n",
    "Regression typically uses Mean Squared Error (MSE) loss, which NeuroScope handles automatically when detecting continuous targets."
   ]
  },
  {
   "cell_type": "code",
   "execution_count": 8,
   "id": "f7984f3c",
   "metadata": {},
   "outputs": [
    {
     "name": "stdout",
     "output_type": "stream",
     "text": [
      "===============================================================\n",
      "                    MLP ARCHITECTURE SUMMARY\n",
      "===============================================================\n",
      "Layer        Type               Output Shape    Params    \n",
      "---------------------------------------------------------------\n",
      "Layer 1      Input → Hidden     (20,)           420       \n",
      "Layer 2      Hidden → Output    (1,)            21        \n",
      "---------------------------------------------------------------\n",
      "TOTAL                                           441       \n",
      "===============================================================\n",
      "Hidden Activation                               leaky_relu\n",
      "Output Activation                               Linear\n",
      "Optimizer                                       Adam\n",
      "Learning Rate                                   0.001\n",
      "Dropout                                         20.0% (normal)\n",
      "L2 Regularization                               λ = 0.1\n",
      "===============================================================\n"
     ]
    }
   ],
   "source": [
    "# Compile the model\n",
    "model.compile(\n",
    "        optimizer=\"adam\",  # Adam optimizer\n",
    "        lr=0.001,  # Learning rate\n",
    "        reg=\"l2\",  # L2 regularization\n",
    "        lamda=0.1,  # Regularization strength\n",
    "    )"
   ]
  },
  {
   "cell_type": "markdown",
   "id": "842a6d0d",
   "metadata": {},
   "source": [
    "#### **Step 7: Pre-Training Analysis**\n",
    "\n",
    "NeuroScope's pre-training analyzer performs comprehensive checks before training begins. This catches potential issues that could derail training."
   ]
  },
  {
   "cell_type": "code",
   "execution_count": 9,
   "id": "e90b86e4",
   "metadata": {},
   "outputs": [
    {
     "name": "stdout",
     "output_type": "stream",
     "text": [
      "==========================================================================================\n",
      "                         NEUROSCOPE PRE-TRAINING ANALYSIS\n",
      "==========================================================================================\n",
      "DIAGNOSTIC TOOL             STATUS       RESULT         NOTE                                      \n",
      "------------------------------------------------------------------------------------------\n",
      "Initial Loss Check          PASS         23.1805        Perfect loss init                         \n",
      "Initialization Validation   PASS         2 layers       Good weight init                          \n",
      "Layer Capacity Analysis     PASS         441 params     No bottlenecks                            \n",
      "Architecture Sanity Check   PASS         0I/0W          Architecture is fine                      \n",
      "Capacity vs Data Ratio      PASS         441 params     Excellent model size                      \n",
      "Convergence Feasibility     PASS         66.7%          Good convergence potential                \n",
      "------------------------------------------------------------------------------------------\n",
      "OVERALL STATUS: ALL SYSTEMS READY\n",
      "TESTS PASSED: 6/6\n",
      "==========================================================================================\n"
     ]
    }
   ],
   "source": [
    "# Pre-training analysis\n",
    "analyzer = PreTrainingAnalyzer(model)\n",
    "analyzer.analyze(X_train, y_train)"
   ]
  },
  {
   "cell_type": "markdown",
   "id": "633a4b4c",
   "metadata": {},
   "source": [
    "#### **Step 8: Training with Real-Time Monitoring**\n",
    "\n",
    "Now let's train with NeuroScope's advanced monitoring. Watch the diagnostic indicators - they tell you exactly what's happening inside your network!"
   ]
  },
  {
   "cell_type": "code",
   "execution_count": 10,
   "id": "7586f4b6",
   "metadata": {},
   "outputs": [
    {
     "name": "stdout",
     "output_type": "stream",
     "text": [
      "----------------------------------------------------------------------------------------------------\n",
      "SNR: 🟡 (0.62),     | Dead Neurons: 🟢 (0.00%)  | VGP:      🟢  | EGP:     🔴  | Weight Health: 🟢\n",
      "WUR: 🟢 (2.12e-03)  | Saturation:   🟢 (0.00)   | Progress: 🟢  | Plateau: 🟢  | Overfitting:   🟡\n",
      "----------------------------------------------------------------------------------------------------\n",
      "Epoch   1  Train loss: 20.188092, Train R²: 0.1448 Val loss: 17.3761617, Val R²: 0.15109\n",
      "----------------------------------------------------------------------------------------------------\n",
      "SNR: 🟡 (0.63),     | Dead Neurons: 🟢 (0.00%)  | VGP:      🟢  | EGP:     🟢  | Weight Health: 🟢\n",
      "WUR: 🟢 (2.05e-03)  | Saturation:   🟢 (0.00)   | Progress: 🟢  | Plateau: 🟢  | Overfitting:   🟢\n",
      "----------------------------------------------------------------------------------------------------\n",
      "Epoch   2  Train loss: 17.209626, Train R²: 0.2710 Val loss: 14.8085049, Val R²: 0.27658\n",
      "----------------------------------------------------------------------------------------------------\n",
      "SNR: 🟡 (0.53),     | Dead Neurons: 🟢 (0.00%)  | VGP:      🟢  | EGP:     🔴  | Weight Health: 🟢\n",
      "WUR: 🟢 (2.09e-03)  | Saturation:   🟢 (0.00)   | Progress: 🟡  | Plateau: 🟢  | Overfitting:   🟢\n",
      "----------------------------------------------------------------------------------------------------\n",
      "Epoch   3  Train loss: 14.131286, Train R²: 0.4014 Val loss: 12.1494844, Val R²: 0.40655\n",
      "----------------------------------------------------------------------------------------------------\n",
      "SNR: 🟡 (0.65),     | Dead Neurons: 🟢 (0.00%)  | VGP:      🟢  | EGP:     🟡  | Weight Health: 🟢\n",
      "WUR: 🟢 (2.08e-03)  | Saturation:   🟢 (0.00)   | Progress: 🟢  | Plateau: 🟢  | Overfitting:   🟢\n",
      "----------------------------------------------------------------------------------------------------\n",
      "Epoch   4  Train loss: 10.975918, Train R²: 0.5351 Val loss: 9.4255536, Val R²: 0.53969\n",
      "----------------------------------------------------------------------------------------------------\n",
      "SNR: 🟡 (0.66),     | Dead Neurons: 🟢 (0.00%)  | VGP:      🟢  | EGP:     🟢  | Weight Health: 🟢\n",
      "WUR: 🟢 (1.80e-03)  | Saturation:   🟢 (0.00)   | Progress: 🟢  | Plateau: 🟢  | Overfitting:   🟢\n",
      "----------------------------------------------------------------------------------------------------\n",
      "Epoch   5  Train loss: 7.861423, Train R²: 0.6670 Val loss: 6.7460697, Val R²: 0.67066\n",
      "----------------------------------------------------------------------------------------------------\n",
      "SNR: 🟡 (0.64),     | Dead Neurons: 🟢 (0.00%)  | VGP:      🟢  | EGP:     🟢  | Weight Health: 🟢\n",
      "WUR: 🟢 (1.68e-03)  | Saturation:   🟢 (0.00)   | Progress: 🟢  | Plateau: 🟢  | Overfitting:   🟢\n",
      "----------------------------------------------------------------------------------------------------\n",
      "Epoch   6  Train loss: 5.307075, Train R²: 0.7752 Val loss: 4.5638672, Val R²: 0.77733\n",
      "----------------------------------------------------------------------------------------------------\n",
      "SNR: 🟡 (0.60),     | Dead Neurons: 🟢 (0.00%)  | VGP:      🟢  | EGP:     🟢  | Weight Health: 🟢\n",
      "WUR: 🟢 (1.22e-03)  | Saturation:   🟢 (0.00)   | Progress: 🟢  | Plateau: 🟢  | Overfitting:   🟢\n",
      "----------------------------------------------------------------------------------------------------\n",
      "Epoch   7  Train loss: 3.394567, Train R²: 0.8563 Val loss: 2.9515523, Val R²: 0.85614\n",
      "----------------------------------------------------------------------------------------------------\n",
      "SNR: 🟡 (0.64),     | Dead Neurons: 🟢 (0.00%)  | VGP:      🟢  | EGP:     🟢  | Weight Health: 🟢\n",
      "WUR: 🟢 (1.07e-03)  | Saturation:   🟢 (0.00)   | Progress: 🟢  | Plateau: 🟢  | Overfitting:   🟢\n",
      "----------------------------------------------------------------------------------------------------\n",
      "Epoch   8  Train loss: 2.126765, Train R²: 0.9100 Val loss: 1.9003378, Val R²: 0.90753\n",
      "----------------------------------------------------------------------------------------------------\n",
      "SNR: 🟡 (0.67),     | Dead Neurons: 🟢 (0.00%)  | VGP:      🟢  | EGP:     🟢  | Weight Health: 🟢\n",
      "WUR: 🟡 (8.07e-04)  | Saturation:   🟢 (0.00)   | Progress: 🟢  | Plateau: 🟢  | Overfitting:   🟢\n",
      "----------------------------------------------------------------------------------------------------\n",
      "Epoch   9  Train loss: 1.385123, Train R²: 0.9414 Val loss: 1.2915389, Val R²: 0.93730\n",
      "----------------------------------------------------------------------------------------------------\n",
      "SNR: 🟡 (0.71),     | Dead Neurons: 🟢 (0.00%)  | VGP:      🟢  | EGP:     🟢  | Weight Health: 🟢\n",
      "WUR: 🟡 (6.26e-04)  | Saturation:   🟢 (0.00)   | Progress: 🟢  | Plateau: 🟢  | Overfitting:   🟢\n",
      "----------------------------------------------------------------------------------------------------\n",
      "Epoch  10  Train loss: 0.954106, Train R²: 0.9597 Val loss: 0.9298733, Val R²: 0.95498\n",
      "----------------------------------------------------------------------------------------------------\n",
      "SNR: 🟡 (0.80),     | Dead Neurons: 🟢 (0.00%)  | VGP:      🟢  | EGP:     🟢  | Weight Health: 🟢\n",
      "WUR: 🟡 (5.61e-04)  | Saturation:   🟢 (0.00)   | Progress: 🟢  | Plateau: 🟢  | Overfitting:   🟢\n",
      "----------------------------------------------------------------------------------------------------\n",
      "Epoch  11  Train loss: 0.706755, Train R²: 0.9701 Val loss: 0.7156737, Val R²: 0.96545\n",
      "----------------------------------------------------------------------------------------------------\n",
      "SNR: 🟡 (0.79),     | Dead Neurons: 🟢 (0.00%)  | VGP:      🟢  | EGP:     🟢  | Weight Health: 🟢\n",
      "WUR: 🟡 (4.26e-04)  | Saturation:   🟢 (0.00)   | Progress: 🟢  | Plateau: 🟢  | Overfitting:   🟢\n",
      "----------------------------------------------------------------------------------------------------\n",
      "Epoch  12  Train loss: 0.568794, Train R²: 0.9760 Val loss: 0.5961568, Val R²: 0.97130\n",
      "----------------------------------------------------------------------------------------------------\n",
      "SNR: 🟡 (0.60),     | Dead Neurons: 🟢 (0.00%)  | VGP:      🟢  | EGP:     🟢  | Weight Health: 🟢\n",
      "WUR: 🟡 (3.96e-04)  | Saturation:   🟢 (0.00)   | Progress: 🟢  | Plateau: 🟢  | Overfitting:   🟢\n",
      "----------------------------------------------------------------------------------------------------\n",
      "Epoch  13  Train loss: 0.491325, Train R²: 0.9793 Val loss: 0.5248959, Val R²: 0.97478\n",
      "----------------------------------------------------------------------------------------------------\n",
      "SNR: 🟡 (0.92),     | Dead Neurons: 🟢 (0.00%)  | VGP:      🟢  | EGP:     🟢  | Weight Health: 🟢\n",
      "WUR: 🟡 (4.89e-04)  | Saturation:   🟢 (0.00)   | Progress: 🟢  | Plateau: 🟢  | Overfitting:   🟢\n",
      "----------------------------------------------------------------------------------------------------\n",
      "Epoch  14  Train loss: 0.425585, Train R²: 0.9821 Val loss: 0.4637287, Val R²: 0.97777\n",
      "----------------------------------------------------------------------------------------------------\n",
      "SNR: 🟡 (0.71),     | Dead Neurons: 🟢 (0.00%)  | VGP:      🟢  | EGP:     🟢  | Weight Health: 🟢\n",
      "WUR: 🟡 (4.65e-04)  | Saturation:   🟢 (0.00)   | Progress: 🟢  | Plateau: 🟢  | Overfitting:   🟢\n",
      "----------------------------------------------------------------------------------------------------\n",
      "Epoch  15  Train loss: 0.391586, Train R²: 0.9835 Val loss: 0.4328083, Val R²: 0.97928\n",
      "----------------------------------------------------------------------------------------------------\n",
      "SNR: 🟡 (0.73),     | Dead Neurons: 🟢 (0.00%)  | VGP:      🟢  | EGP:     🟢  | Weight Health: 🟢\n",
      "WUR: 🟡 (4.33e-04)  | Saturation:   🟢 (0.00)   | Progress: 🟢  | Plateau: 🟢  | Overfitting:   🟢\n",
      "----------------------------------------------------------------------------------------------------\n",
      "Epoch  16  Train loss: 0.355776, Train R²: 0.9850 Val loss: 0.3976737, Val R²: 0.98100\n",
      "----------------------------------------------------------------------------------------------------\n",
      "SNR: 🟡 (0.68),     | Dead Neurons: 🟢 (0.00%)  | VGP:      🟢  | EGP:     🟢  | Weight Health: 🟢\n",
      "WUR: 🟡 (4.97e-04)  | Saturation:   🟢 (0.00)   | Progress: 🟢  | Plateau: 🟢  | Overfitting:   🟢\n",
      "----------------------------------------------------------------------------------------------------\n",
      "Epoch  17  Train loss: 0.333133, Train R²: 0.9860 Val loss: 0.3747768, Val R²: 0.98212\n",
      "----------------------------------------------------------------------------------------------------\n",
      "SNR: 🟡 (0.90),     | Dead Neurons: 🟢 (0.00%)  | VGP:      🟢  | EGP:     🟢  | Weight Health: 🟢\n",
      "WUR: 🟡 (4.31e-04)  | Saturation:   🟢 (0.00)   | Progress: 🟢  | Plateau: 🟢  | Overfitting:   🟢\n",
      "----------------------------------------------------------------------------------------------------\n",
      "Epoch  18  Train loss: 0.309089, Train R²: 0.9870 Val loss: 0.3523186, Val R²: 0.98322\n",
      "----------------------------------------------------------------------------------------------------\n",
      "SNR: 🟡 (0.58),     | Dead Neurons: 🟢 (0.00%)  | VGP:      🟢  | EGP:     🟢  | Weight Health: 🟢\n",
      "WUR: 🟡 (5.02e-04)  | Saturation:   🟢 (0.00)   | Progress: 🟢  | Plateau: 🟢  | Overfitting:   🟢\n",
      "----------------------------------------------------------------------------------------------------\n",
      "Epoch  19  Train loss: 0.292859, Train R²: 0.9877 Val loss: 0.3333509, Val R²: 0.98415\n",
      "----------------------------------------------------------------------------------------------------\n",
      "SNR: 🟡 (0.82),     | Dead Neurons: 🟢 (0.00%)  | VGP:      🟢  | EGP:     🟢  | Weight Health: 🟢\n",
      "WUR: 🟡 (4.92e-04)  | Saturation:   🟢 (0.00)   | Progress: 🟢  | Plateau: 🟡  | Overfitting:   🟢\n",
      "----------------------------------------------------------------------------------------------------\n",
      "Epoch  20  Train loss: 0.294552, Train R²: 0.9876 Val loss: 0.3253740, Val R²: 0.98454\n",
      "----------------------------------------------------------------------------------------------------\n",
      "SNR: 🟡 (0.59),     | Dead Neurons: 🟢 (0.00%)  | VGP:      🟢  | EGP:     🟢  | Weight Health: 🟢\n",
      "WUR: 🟡 (4.49e-04)  | Saturation:   🟢 (0.00)   | Progress: 🟢  | Plateau: 🟡  | Overfitting:   🟢\n",
      "----------------------------------------------------------------------------------------------------\n",
      "Epoch  21  Train loss: 0.294995, Train R²: 0.9876 Val loss: 0.3282372, Val R²: 0.98440\n",
      "----------------------------------------------------------------------------------------------------\n",
      "SNR: 🟡 (0.68),     | Dead Neurons: 🟢 (0.00%)  | VGP:      🟢  | EGP:     🟢  | Weight Health: 🟢\n",
      "WUR: 🟡 (4.57e-04)  | Saturation:   🟢 (0.00)   | Progress: 🟢  | Plateau: 🟢  | Overfitting:   🟢\n",
      "----------------------------------------------------------------------------------------------------\n",
      "Epoch  22  Train loss: 0.269876, Train R²: 0.9886 Val loss: 0.3060905, Val R²: 0.98548\n",
      "----------------------------------------------------------------------------------------------------\n",
      "SNR: 🟡 (0.76),     | Dead Neurons: 🟢 (0.00%)  | VGP:      🟢  | EGP:     🟢  | Weight Health: 🟢\n",
      "WUR: 🟡 (4.90e-04)  | Saturation:   🟢 (0.00)   | Progress: 🟢  | Plateau: 🟢  | Overfitting:   🟢\n",
      "----------------------------------------------------------------------------------------------------\n",
      "Epoch  23  Train loss: 0.255238, Train R²: 0.9893 Val loss: 0.2956074, Val R²: 0.98600\n",
      "----------------------------------------------------------------------------------------------------\n",
      "SNR: 🟡 (0.87),     | Dead Neurons: 🟢 (0.00%)  | VGP:      🟢  | EGP:     🟢  | Weight Health: 🟢\n",
      "WUR: 🟡 (4.41e-04)  | Saturation:   🟢 (0.00)   | Progress: 🟢  | Plateau: 🟡  | Overfitting:   🟢\n",
      "----------------------------------------------------------------------------------------------------\n",
      "Epoch  24  Train loss: 0.251183, Train R²: 0.9894 Val loss: 0.2858985, Val R²: 0.98648\n",
      "----------------------------------------------------------------------------------------------------\n",
      "SNR: 🟡 (0.55),     | Dead Neurons: 🟢 (0.00%)  | VGP:      🟢  | EGP:     🟢  | Weight Health: 🟢\n",
      "WUR: 🟡 (5.20e-04)  | Saturation:   🟢 (0.00)   | Progress: 🟢  | Plateau: 🟡  | Overfitting:   🟢\n",
      "----------------------------------------------------------------------------------------------------\n",
      "Epoch  25  Train loss: 0.243864, Train R²: 0.9898 Val loss: 0.2785939, Val R²: 0.98684\n",
      "----------------------------------------------------------------------------------------------------\n",
      "SNR: 🟡 (0.57),     | Dead Neurons: 🟢 (0.00%)  | VGP:      🟢  | EGP:     🟢  | Weight Health: 🟢\n",
      "WUR: 🟡 (4.18e-04)  | Saturation:   🟢 (0.00)   | Progress: 🟢  | Plateau: 🟡  | Overfitting:   🟢\n",
      "----------------------------------------------------------------------------------------------------\n",
      "Epoch  26  Train loss: 0.246339, Train R²: 0.9896 Val loss: 0.2823883, Val R²: 0.98665\n",
      "----------------------------------------------------------------------------------------------------\n",
      "SNR: 🟡 (0.65),     | Dead Neurons: 🟢 (0.00%)  | VGP:      🟢  | EGP:     🟢  | Weight Health: 🟢\n",
      "WUR: 🟡 (4.81e-04)  | Saturation:   🟢 (0.00)   | Progress: 🟢  | Plateau: 🟢  | Overfitting:   🟢\n",
      "----------------------------------------------------------------------------------------------------\n",
      "Epoch  27  Train loss: 0.229640, Train R²: 0.9904 Val loss: 0.2703447, Val R²: 0.98724\n",
      "----------------------------------------------------------------------------------------------------\n",
      "SNR: 🟡 (0.70),     | Dead Neurons: 🟢 (0.00%)  | VGP:      🟢  | EGP:     🟢  | Weight Health: 🟢\n",
      "WUR: 🟡 (4.97e-04)  | Saturation:   🟢 (0.00)   | Progress: 🟢  | Plateau: 🟡  | Overfitting:   🟢\n",
      "----------------------------------------------------------------------------------------------------\n",
      "Epoch  28  Train loss: 0.229908, Train R²: 0.9903 Val loss: 0.2724631, Val R²: 0.98714\n",
      "----------------------------------------------------------------------------------------------------\n",
      "SNR: 🟡 (0.81),     | Dead Neurons: 🟢 (0.00%)  | VGP:      🟢  | EGP:     🟢  | Weight Health: 🟢\n",
      "WUR: 🟡 (4.47e-04)  | Saturation:   🟢 (0.00)   | Progress: 🟢  | Plateau: 🟡  | Overfitting:   🟢\n",
      "----------------------------------------------------------------------------------------------------\n",
      "Epoch  29  Train loss: 0.223124, Train R²: 0.9906 Val loss: 0.2633933, Val R²: 0.98759\n",
      "----------------------------------------------------------------------------------------------------\n",
      "SNR: 🟡 (0.65),     | Dead Neurons: 🟢 (0.00%)  | VGP:      🟢  | EGP:     🟢  | Weight Health: 🟢\n",
      "WUR: 🟡 (5.09e-04)  | Saturation:   🟢 (0.00)   | Progress: 🟢  | Plateau: 🟡  | Overfitting:   🔴\n",
      "----------------------------------------------------------------------------------------------------\n",
      "Epoch  30  Train loss: 0.219214, Train R²: 0.9908 Val loss: 0.2645793, Val R²: 0.98754\n",
      "----------------------------------------------------------------------------------------------------\n",
      "SNR: 🟡 (0.48),     | Dead Neurons: 🟢 (0.00%)  | VGP:      🟢  | EGP:     🟢  | Weight Health: 🟢\n",
      "WUR: 🟡 (4.26e-04)  | Saturation:   🟢 (0.00)   | Progress: 🟢  | Plateau: 🟢  | Overfitting:   🟢\n",
      "----------------------------------------------------------------------------------------------------\n",
      "Epoch  31  Train loss: 0.238892, Train R²: 0.9900 Val loss: 0.2747471, Val R²: 0.98704\n",
      "----------------------------------------------------------------------------------------------------\n",
      "SNR: 🟡 (0.57),     | Dead Neurons: 🟢 (0.00%)  | VGP:      🟢  | EGP:     🟢  | Weight Health: 🟢\n",
      "WUR: 🟡 (5.62e-04)  | Saturation:   🟢 (0.00)   | Progress: 🟢  | Plateau: 🔴  | Overfitting:   🟡\n",
      "----------------------------------------------------------------------------------------------------\n",
      "Epoch  32  Train loss: 0.240193, Train R²: 0.9899 Val loss: 0.2748999, Val R²: 0.98703\n",
      "----------------------------------------------------------------------------------------------------\n",
      "SNR: 🟡 (0.71),     | Dead Neurons: 🟢 (0.00%)  | VGP:      🟢  | EGP:     🟢  | Weight Health: 🟢\n",
      "WUR: 🟡 (5.70e-04)  | Saturation:   🟢 (0.00)   | Progress: 🟡  | Plateau: 🟡  | Overfitting:   🟢\n",
      "----------------------------------------------------------------------------------------------------\n",
      "Epoch  33  Train loss: 0.233588, Train R²: 0.9902 Val loss: 0.2644659, Val R²: 0.98755\n",
      "----------------------------------------------------------------------------------------------------\n",
      "SNR: 🟡 (0.75),     | Dead Neurons: 🟢 (0.00%)  | VGP:      🟢  | EGP:     🟢  | Weight Health: 🟢\n",
      "WUR: 🟡 (4.89e-04)  | Saturation:   🟢 (0.00)   | Progress: 🟡  | Plateau: 🟡  | Overfitting:   🟢\n",
      "----------------------------------------------------------------------------------------------------\n",
      "Epoch  34  Train loss: 0.232141, Train R²: 0.9903 Val loss: 0.2628453, Val R²: 0.98763\n",
      "----------------------------------------------------------------------------------------------------\n",
      "SNR: 🟡 (0.84),     | Dead Neurons: 🟢 (0.00%)  | VGP:      🟢  | EGP:     🟢  | Weight Health: 🟢\n",
      "WUR: 🟡 (5.00e-04)  | Saturation:   🟢 (0.00)   | Progress: 🟢  | Plateau: 🟡  | Overfitting:   🟢\n",
      "----------------------------------------------------------------------------------------------------\n",
      "Epoch  35  Train loss: 0.217044, Train R²: 0.9909 Val loss: 0.2518935, Val R²: 0.98817\n",
      "----------------------------------------------------------------------------------------------------\n",
      "SNR: 🟡 (0.68),     | Dead Neurons: 🟢 (0.00%)  | VGP:      🟢  | EGP:     🟢  | Weight Health: 🟢\n",
      "WUR: 🟡 (5.23e-04)  | Saturation:   🟢 (0.00)   | Progress: 🟢  | Plateau: 🟡  | Overfitting:   🟢\n",
      "----------------------------------------------------------------------------------------------------\n",
      "Epoch  36  Train loss: 0.213132, Train R²: 0.9911 Val loss: 0.2480098, Val R²: 0.98836\n",
      "----------------------------------------------------------------------------------------------------\n",
      "SNR: 🟡 (0.68),     | Dead Neurons: 🟢 (0.00%)  | VGP:      🟢  | EGP:     🟢  | Weight Health: 🟢\n",
      "WUR: 🟡 (5.65e-04)  | Saturation:   🟢 (0.00)   | Progress: 🟢  | Plateau: 🟡  | Overfitting:   🟢\n",
      "----------------------------------------------------------------------------------------------------\n",
      "Epoch  37  Train loss: 0.211258, Train R²: 0.9911 Val loss: 0.2414119, Val R²: 0.98869\n",
      "----------------------------------------------------------------------------------------------------\n",
      "SNR: 🟡 (0.54),     | Dead Neurons: 🟢 (0.00%)  | VGP:      🟢  | EGP:     🟢  | Weight Health: 🟢\n",
      "WUR: 🟡 (4.66e-04)  | Saturation:   🟢 (0.00)   | Progress: 🟢  | Plateau: 🟡  | Overfitting:   🟢\n",
      "----------------------------------------------------------------------------------------------------\n",
      "Epoch  38  Train loss: 0.220221, Train R²: 0.9908 Val loss: 0.2467935, Val R²: 0.98843\n",
      "----------------------------------------------------------------------------------------------------\n",
      "SNR: 🟡 (0.48),     | Dead Neurons: 🟢 (0.00%)  | VGP:      🟢  | EGP:     🟢  | Weight Health: 🟢\n",
      "WUR: 🟡 (5.09e-04)  | Saturation:   🟢 (0.00)   | Progress: 🟢  | Plateau: 🟡  | Overfitting:   🟢\n",
      "----------------------------------------------------------------------------------------------------\n",
      "Epoch  39  Train loss: 0.223262, Train R²: 0.9906 Val loss: 0.2457323, Val R²: 0.98848\n",
      "----------------------------------------------------------------------------------------------------\n",
      "SNR: 🟡 (0.69),     | Dead Neurons: 🟢 (0.00%)  | VGP:      🟢  | EGP:     🟢  | Weight Health: 🟢\n",
      "WUR: 🟡 (6.26e-04)  | Saturation:   🟢 (0.00)   | Progress: 🟢  | Plateau: 🟡  | Overfitting:   🟢\n",
      "----------------------------------------------------------------------------------------------------\n",
      "Epoch  40  Train loss: 0.224097, Train R²: 0.9906 Val loss: 0.2467300, Val R²: 0.98844\n"
     ]
    }
   ],
   "source": [
    "# Training with monitoring\n",
    "monitor = TrainingMonitor()\n",
    "history = model.fit(\n",
    "        X_train,\n",
    "        y_train,\n",
    "        X_val=X_val,\n",
    "        y_val=y_val,\n",
    "        epochs=40,\n",
    "        batch_size=32,\n",
    "        monitor=monitor,\n",
    "        metric='r2'\n",
    "    )"
   ]
  },
  {
   "cell_type": "markdown",
   "id": "009ddabd",
   "metadata": {},
   "source": [
    "#### **Step 9: Visualize Training Progress**\n",
    "\n",
    "NeuroScope's visualizer creates high quality plots. The learning curves show how loss decreases and r2 improves over time."
   ]
  },
  {
   "cell_type": "code",
   "execution_count": 11,
   "id": "cb225e8c",
   "metadata": {},
   "outputs": [],
   "source": [
    "# Initialize visualizer\n",
    "viz = Visualizer(history)"
   ]
  },
  {
   "cell_type": "code",
   "execution_count": 12,
   "id": "3b66ef93",
   "metadata": {},
   "outputs": [
    {
     "data": {
      "image/png": "[encoded data removed]",
      "text/plain": [
       "<Figure size 900x400 with 2 Axes>"
      ]
     },
     "metadata": {},
     "output_type": "display_data"
    }
   ],
   "source": [
    "# plot learning curves\n",
    "viz.plot_learning_curves(ci=True, markers=True)"
   ]
  },
  {
   "cell_type": "code",
   "execution_count": 13,
   "id": "855512b4",
   "metadata": {},
   "outputs": [],
   "source": [
    "# plot training animation (uncomment to use)\n",
    "#viz.plot_training_animation(bg=\"light\")"
   ]
  },
  {
   "cell_type": "markdown",
   "id": "a8b0374d",
   "metadata": {},
   "source": [
    "#### **Step 10: Final Model Evaluation**\n",
    "\n",
    "Time for the moment of truth! Let's see how well our model performs on completely unseen test data."
   ]
  },
  {
   "cell_type": "code",
   "execution_count": 14,
   "id": "192000a9",
   "metadata": {},
   "outputs": [
    {
     "name": "stdout",
     "output_type": "stream",
     "text": [
      "================================================================================\n",
      "                  NEUROSCOPE POST-TRAINING EVALUATION\n",
      "================================================================================\n",
      "EVALUATION      STATUS       SCORE        NOTE                                         \n",
      "--------------------------------------------------------------------------------\n",
      "Robustness      EXCELLENT    1.841        Highly robust to noise                       \n",
      "Performance     FAIL         0.185        Poor performance                             \n",
      "Stability       WARN         0.503        Moderate stability issues                    \n",
      "--------------------------------------------------------------------------------\n",
      "OVERALL STATUS: ISSUES DETECTED\n",
      "EVALUATIONS PASSED: 1/3\n",
      "================================================================================\n",
      "                     REGRESSION METRICS\n",
      "================================================================================\n",
      "METRIC               STATUS       SCORE        NOTE                                    \n",
      "--------------------------------------------------------------------------------\n",
      "R² Score             EXCELLENT    0.9910       Outstanding fit                         \n",
      "Mean Absolute Error  WARN         0.3244       Moderate error                          \n",
      "Mean Squared Error   PASS         0.1850       Low error                               \n",
      "Root Mean Squared Error WARN         0.4301       Moderate error                          \n",
      "--------------------------------------------------------------------------------\n",
      "METRICS STATUS: SOME METRICS WARNINGS\n",
      "METRICS PASSED: 2/4\n",
      "================================================================================\n"
     ]
    }
   ],
   "source": [
    "# Post-training evaluation\n",
    "evaluator = PostTrainingEvaluator(model)\n",
    "evaluator.evaluate(X_test, y_test)"
   ]
  },
  {
   "cell_type": "markdown",
   "id": "bee617cd",
   "metadata": {},
   "source": [
    "### **Regression Mastery Achieved!**\n",
    "\n",
    "You've successfully conquered continuous value prediction with NeuroScope!\n",
    "\n",
    "### **Key Regression Concepts:**\n",
    "- **Linear output activation:** No constraints on output values\n",
    "- **MSE loss function:** Penalizes large prediction errors heavily\n",
    "- **R² metric:** Measures how much variance your model explains\n",
    "- **Continuous predictions:** Real-valued outputs instead of categories\n",
    "- **Prediction analysis:** Scatter plots and error metrics\n",
    "\n",
    "#### **Regression vs Classification:**\n",
    "| Aspect | Classification | Regression |\n",
    "|--------|---------------|------------|\n",
    "| **Output** | Categories (0, 1, 2...) | Real numbers (-∞ to +∞) |\n",
    "| **Activation** | Sigmoid/Softmax | Linear (none) |\n",
    "| **Loss** | Crossentropy | MSE |\n",
    "| **Metric** | Accuracy | R² |\n",
    "| **Goal** | Classify | Predict value |\n",
    "\n",
    "#### **Understanding R² Scores:**\n",
    "- **R² = 1.0:** Perfect predictions\n",
    "- **R² = 0.8+:** Excellent model\n",
    "- **R² = 0.5-0.8:** Good model\n",
    "- **R² < 0.5:** Needs improvement\n",
    "- **R² < 0:** Worse than predicting the mean!\n",
    "\n",
    "#### **Next Adventure:**\n",
    "Ready to explore **High-Performance Training**? Learn how to make your models train lightning-fast!\n",
    "\n",
    "**You're becoming a NeuroScope expert!**"
   ]
  }
 ],
 "metadata": {
  "kernelspec": {
   "display_name": "venv",
   "language": "python",
   "name": "python3"
  },
  "language_info": {
   "codemirror_mode": {
    "name": "ipython",
    "version": 3
   },
   "file_extension": ".py",
   "mimetype": "text/x-python",
   "name": "python",
   "nbconvert_exporter": "python",
   "pygments_lexer": "ipython3",
   "version": "3.12.11"
  }
 },
 "nbformat": 4,
 "nbformat_minor": 5
}
